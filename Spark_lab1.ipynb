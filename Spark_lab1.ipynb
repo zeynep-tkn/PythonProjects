{
  "nbformat": 4,
  "nbformat_minor": 0,
  "metadata": {
    "colab": {
      "provenance": [],
      "authorship_tag": "ABX9TyPFciscmija4CQvp5+/Bz/P",
      "include_colab_link": true
    },
    "kernelspec": {
      "name": "python3",
      "display_name": "Python 3"
    },
    "language_info": {
      "name": "python"
    }
  },
  "cells": [
    {
      "cell_type": "markdown",
      "metadata": {
        "id": "view-in-github",
        "colab_type": "text"
      },
      "source": [
        "<a href=\"https://colab.research.google.com/github/zeynep-tkn/PythonProjects/blob/main/Spark_lab1.ipynb\" target=\"_parent\"><img src=\"https://colab.research.google.com/assets/colab-badge.svg\" alt=\"Open In Colab\"/></a>"
      ]
    },
    {
      "cell_type": "code",
      "execution_count": 1,
      "metadata": {
        "colab": {
          "base_uri": "https://localhost:8080/"
        },
        "id": "DsUEUN2FTtyy",
        "outputId": "e990d534-e87a-436a-f42a-1e09624266c7"
      },
      "outputs": [
        {
          "output_type": "stream",
          "name": "stdout",
          "text": [
            "Collecting pyspark\n",
            "  Downloading pyspark-3.5.3.tar.gz (317.3 MB)\n",
            "\u001b[2K     \u001b[90m━━━━━━━━━━━━━━━━━━━━━━━━━━━━━━━━━━━━━━━━\u001b[0m \u001b[32m317.3/317.3 MB\u001b[0m \u001b[31m4.7 MB/s\u001b[0m eta \u001b[36m0:00:00\u001b[0m\n",
            "\u001b[?25h  Preparing metadata (setup.py) ... \u001b[?25l\u001b[?25hdone\n",
            "Requirement already satisfied: py4j==0.10.9.7 in /usr/local/lib/python3.10/dist-packages (from pyspark) (0.10.9.7)\n",
            "Building wheels for collected packages: pyspark\n",
            "  Building wheel for pyspark (setup.py) ... \u001b[?25l\u001b[?25hdone\n",
            "  Created wheel for pyspark: filename=pyspark-3.5.3-py2.py3-none-any.whl size=317840625 sha256=649ed611f95c54f78276b8df4f09a74a4882071d7619aaae005faf4608866d89\n",
            "  Stored in directory: /root/.cache/pip/wheels/1b/3a/92/28b93e2fbfdbb07509ca4d6f50c5e407f48dce4ddbda69a4ab\n",
            "Successfully built pyspark\n",
            "Installing collected packages: pyspark\n",
            "Successfully installed pyspark-3.5.3\n"
          ]
        }
      ],
      "source": [
        "# PySpark'ı yükleme\n",
        "!pip install pyspark"
      ]
    },
    {
      "cell_type": "code",
      "source": [
        "# Gerekli kütüphaneleri içe aktarma\n",
        "from pyspark.sql import SparkSession\n",
        "from pyspark.sql import functions as F"
      ],
      "metadata": {
        "id": "UeYmA41tUhMh"
      },
      "execution_count": 2,
      "outputs": []
    },
    {
      "cell_type": "code",
      "source": [
        "#spark oturumunu başlatma\n",
        "spark= SparkSession.builder \\\n",
        "    .appName(\"Google Colab Spark Example\") \\\n",
        "    .getOrCreate()"
      ],
      "metadata": {
        "id": "D98EcGrKUr46"
      },
      "execution_count": 3,
      "outputs": []
    },
    {
      "cell_type": "code",
      "source": [
        "#Örnek veri oluşturma\n",
        "data = [\n",
        "    (\"Alice\",1),\n",
        "    (\"Bob\",2),\n",
        "    (\"Chathy\",3),\n",
        "    (\"David\",4),\n",
        "    (\"Eve\",5)\n",
        "\n",
        "]"
      ],
      "metadata": {
        "id": "hDIA9MoSVOaD"
      },
      "execution_count": 4,
      "outputs": []
    },
    {
      "cell_type": "code",
      "source": [
        "#veri çerçevesini oluşturma\n",
        "columns =[\"Name\",\"Id\"]\n",
        "df=spark.createDataFrame(data,columns)"
      ],
      "metadata": {
        "id": "qFZqf95UVkBl"
      },
      "execution_count": 5,
      "outputs": []
    },
    {
      "cell_type": "code",
      "source": [
        "#veri çerçevesinin yapısını gösterme\n",
        "df.printSchema()"
      ],
      "metadata": {
        "colab": {
          "base_uri": "https://localhost:8080/"
        },
        "id": "UKnt_RRJV5QN",
        "outputId": "3df9064d-887d-4f12-b40e-88b53eafbc25"
      },
      "execution_count": 6,
      "outputs": [
        {
          "output_type": "stream",
          "name": "stdout",
          "text": [
            "root\n",
            " |-- Name: string (nullable = true)\n",
            " |-- Id: long (nullable = true)\n",
            "\n"
          ]
        }
      ]
    },
    {
      "cell_type": "code",
      "source": [
        "#ilk 5 kaydı görüntüleme\n",
        "df.show(5)"
      ],
      "metadata": {
        "colab": {
          "base_uri": "https://localhost:8080/"
        },
        "id": "0DObzRrvWDCW",
        "outputId": "a3556c5b-12d7-4d6d-adee-0074f6813186"
      },
      "execution_count": 7,
      "outputs": [
        {
          "output_type": "stream",
          "name": "stdout",
          "text": [
            "+------+---+\n",
            "|  Name| Id|\n",
            "+------+---+\n",
            "| Alice|  1|\n",
            "|   Bob|  2|\n",
            "|Chathy|  3|\n",
            "| David|  4|\n",
            "|   Eve|  5|\n",
            "+------+---+\n",
            "\n"
          ]
        }
      ]
    },
    {
      "cell_type": "markdown",
      "source": [
        "Filtreleme:"
      ],
      "metadata": {
        "id": "7VdC8_71WOX3"
      }
    },
    {
      "cell_type": "code",
      "source": [
        "#Id'si 2 olan kayıtları filtreleme\n",
        "filtered_df=df.filter(df.Id==2)\n",
        "filtered_df.show()"
      ],
      "metadata": {
        "colab": {
          "base_uri": "https://localhost:8080/"
        },
        "id": "QxBIfAYcWRxs",
        "outputId": "b1b2c6c6-c692-45ab-ac55-3bc2e6ba3940"
      },
      "execution_count": 8,
      "outputs": [
        {
          "output_type": "stream",
          "name": "stdout",
          "text": [
            "+----+---+\n",
            "|Name| Id|\n",
            "+----+---+\n",
            "| Bob|  2|\n",
            "+----+---+\n",
            "\n"
          ]
        }
      ]
    },
    {
      "cell_type": "markdown",
      "source": [
        "Gruplama ve Aggregation"
      ],
      "metadata": {
        "id": "9d7AEOnAWo6A"
      }
    },
    {
      "cell_type": "code",
      "source": [
        "#Gruplama ve sayma işlemi\n",
        "grouped_df = df.groupBy(\"Id\").count()\n",
        "grouped_df.show()"
      ],
      "metadata": {
        "colab": {
          "base_uri": "https://localhost:8080/"
        },
        "id": "khBFaaSHWtLI",
        "outputId": "98a2d569-49df-4e43-b720-747e9385c0e9"
      },
      "execution_count": 9,
      "outputs": [
        {
          "output_type": "stream",
          "name": "stdout",
          "text": [
            "+---+-----+\n",
            "| Id|count|\n",
            "+---+-----+\n",
            "|  1|    1|\n",
            "|  2|    1|\n",
            "|  5|    1|\n",
            "|  3|    1|\n",
            "|  4|    1|\n",
            "+---+-----+\n",
            "\n"
          ]
        }
      ]
    },
    {
      "cell_type": "markdown",
      "source": [
        "DataFrame i Kaydetme"
      ],
      "metadata": {
        "id": "dQpS9lYJW-EN"
      }
    },
    {
      "cell_type": "code",
      "source": [
        "#DataFrame'i CSV formatında kaydetme\n",
        "df.write.csv(\"output.csv\",header=True)"
      ],
      "metadata": {
        "id": "uMqoYcKGXBNX"
      },
      "execution_count": 10,
      "outputs": []
    }
  ]
}